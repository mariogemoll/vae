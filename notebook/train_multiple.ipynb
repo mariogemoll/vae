{
 "cells": [
  {
   "cell_type": "code",
   "execution_count": null,
   "id": "705366b4",
   "metadata": {},
   "outputs": [],
   "source": [
    "import torch\n",
    "from tqdm.notebook import trange\n",
    "\n",
    "from constants import hue_range, sidelength, size_range\n",
    "from dataset import generate_dataset\n",
    "from grid import make_standard_grid\n",
    "from image import get_images\n",
    "from model import VAE\n",
    "from training import train\n",
    "from util import get_device\n",
    "from vaewidgets import model_comparison"
   ]
  },
  {
   "cell_type": "code",
   "execution_count": null,
   "id": "f8d3f3e6",
   "metadata": {},
   "outputs": [],
   "source": [
    "trainset_coords, valset_coords, trainset, valset = generate_dataset(\n",
    "    size_range=size_range,\n",
    "    hue_range=hue_range,\n",
    "    valset_size_range=(0.6, 0.9),\n",
    "    valset_hue_range=(0.4, 0.7),\n",
    "    num_samples=2000,\n",
    ")"
   ]
  },
  {
   "cell_type": "code",
   "execution_count": null,
   "id": "10af4723",
   "metadata": {},
   "outputs": [],
   "source": [
    "trainset.shape, valset.shape"
   ]
  },
  {
   "cell_type": "code",
   "execution_count": null,
   "id": "0b207a2b-658f-46f1-a20f-c258135c1f9d",
   "metadata": {},
   "outputs": [],
   "source": [
    "device = get_device()"
   ]
  },
  {
   "cell_type": "code",
   "execution_count": null,
   "id": "59ae028e-3013-4eec-a39b-028df8ca2bb1",
   "metadata": {},
   "outputs": [],
   "source": [
    "standard_grid = make_standard_grid(size_range, hue_range)\n",
    "imgs = get_images(sidelength, [tuple(pair) for pair in standard_grid.reshape(-1, 2).tolist()])\n",
    "grid_x = (torch.from_numpy(imgs).float() / 255.0).to(device)"
   ]
  },
  {
   "cell_type": "code",
   "execution_count": null,
   "id": "f5ae3436",
   "metadata": {},
   "outputs": [],
   "source": [
    "losses = []\n",
    "processed_grids = []\n",
    "vae = VAE(2).to(device)\n",
    "num_epochs = 100\n",
    "batch_size_train = 256\n",
    "batch_size_val = 64\n",
    "for i in trange(9):\n",
    "    filename = f\"vae_{i}.pth\"\n",
    "    train_losses, val_losses, model_processed_grids = train(\n",
    "        device,\n",
    "        trainset,\n",
    "        valset,\n",
    "        filename,\n",
    "        num_epochs,\n",
    "        batch_size_train,\n",
    "        batch_size_val,\n",
    "        grid_x,\n",
    "        True,\n",
    "    )\n",
    "    processed_grids.append(model_processed_grids)\n",
    "    losses.append((train_losses, val_losses))"
   ]
  },
  {
   "cell_type": "code",
   "execution_count": null,
   "id": "bdc4dbce-2ba3-45d6-9fa6-e01b14dc8ca2",
   "metadata": {},
   "outputs": [],
   "source": [
    "import numpy as np\n",
    "\n",
    "data = np.array(losses).astype(np.float32)"
   ]
  },
  {
   "cell_type": "code",
   "execution_count": null,
   "id": "3b952f0a-8c73-4559-afe4-a30df38694e1",
   "metadata": {},
   "outputs": [],
   "source": [
    "data.tofile(\"losses.bin\")"
   ]
  },
  {
   "cell_type": "code",
   "execution_count": null,
   "id": "6e7c5f06-c6c0-4a12-823e-f3b47fed3bc4",
   "metadata": {},
   "outputs": [],
   "source": [
    "data = np.fromfile(\"losses.bin\", dtype=np.float32).reshape(9, num_epochs, 2)"
   ]
  },
  {
   "cell_type": "code",
   "execution_count": null,
   "id": "905f3244-5c8e-49de-9ba0-71c945e845ee",
   "metadata": {},
   "outputs": [],
   "source": [
    "data.shape, data.dtype"
   ]
  },
  {
   "cell_type": "code",
   "execution_count": null,
   "id": "a188617d-0b72-43ca-a15e-253653d6e022",
   "metadata": {},
   "outputs": [],
   "source": [
    "from util import compress_floats\n",
    "\n",
    "all_processed_grids = np.array(processed_grids).reshape(9, num_epochs, 10, 10, 2)\n",
    "with open(\"grids.bin\", \"wb\") as f:\n",
    "    f.write(compress_floats(all_processed_grids))"
   ]
  },
  {
   "cell_type": "code",
   "execution_count": null,
   "id": "de69c5bc",
   "metadata": {},
   "outputs": [],
   "source": [
    "with open(\"grids.bin\", \"rb\") as f:\n",
    "    # Read min and max\n",
    "    minval, maxval = np.fromfile(f, dtype=\"<f4\", count=2)\n",
    "    # Read the rest of the data\n",
    "    all_processed_grids_loaded = np.fromfile(f, dtype=np.uint8).reshape(9, num_epochs, 10, 10, 2)"
   ]
  },
  {
   "cell_type": "code",
   "execution_count": null,
   "id": "6e1351c5-732f-4a7a-a90f-9a59f6ab2102",
   "metadata": {},
   "outputs": [],
   "source": [
    "extent = maxval - minval\n",
    "all_processed_grids_reconstructed = (\n",
    "    minval + all_processed_grids_loaded.astype(np.float32) / 255.0 * extent\n",
    ")"
   ]
  },
  {
   "cell_type": "code",
   "execution_count": null,
   "id": "60fd51a0-0f70-4ec2-944e-44e957b7c25a",
   "metadata": {},
   "outputs": [],
   "source": [
    "np.allclose(all_processed_grids, all_processed_grids_reconstructed, rtol=1e-01, atol=1e-01)"
   ]
  },
  {
   "cell_type": "code",
   "execution_count": null,
   "id": "e61232d9-36b5-4f94-a7cd-03808df81589",
   "metadata": {},
   "outputs": [],
   "source": [
    "all_processed_grids.shape"
   ]
  },
  {
   "cell_type": "code",
   "execution_count": null,
   "id": "50a1b9b7-7e6d-45e4-bf17-29be3f46c4ce",
   "metadata": {
    "scrolled": true
   },
   "outputs": [],
   "source": [
    "with open(\"losses.bin\", \"rb\") as losses_f, open(\"grids.bin\", \"rb\") as grids_f:\n",
    "    losses_bytes = losses_f.read()\n",
    "    grids_bytes = grids_f.read()\n",
    "\n",
    "model_comparison(losses_bytes, grids_bytes)"
   ]
  }
 ],
 "metadata": {
  "kernelspec": {
   "display_name": "Python 3 (ipykernel)",
   "language": "python",
   "name": "python3"
  },
  "language_info": {
   "codemirror_mode": {
    "name": "ipython",
    "version": 3
   },
   "file_extension": ".py",
   "mimetype": "text/x-python",
   "name": "python",
   "nbconvert_exporter": "python",
   "pygments_lexer": "ipython3",
   "version": "3.13.3"
  }
 },
 "nbformat": 4,
 "nbformat_minor": 5
}
