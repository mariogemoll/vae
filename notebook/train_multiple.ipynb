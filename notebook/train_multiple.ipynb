{
 "cells": [
  {
   "cell_type": "code",
   "execution_count": null,
   "id": "705366b4",
   "metadata": {},
   "outputs": [],
   "source": [
    "import numpy as np\n",
    "import torch\n",
    "from tqdm.notebook import trange\n",
    "\n",
    "from constants import hue_range, num_epochs, num_models, sidelength, size_range\n",
    "from dataset import generate_dataset\n",
    "from grid import make_standard_grid\n",
    "from image import get_images\n",
    "from model import VAE\n",
    "from training import train\n",
    "from util import compress_floats, expand_floats, get_device, onnx_export_to_files, stringify_coords\n",
    "from vaewidgets import model_comparison"
   ]
  },
  {
   "cell_type": "code",
   "execution_count": null,
   "id": "f8d3f3e6",
   "metadata": {},
   "outputs": [],
   "source": [
    "trainset_coords, valset_coords, trainset, valset = generate_dataset(\n",
    "    size_range=size_range,\n",
    "    hue_range=hue_range,\n",
    "    valset_size_range=(0.6, 0.9),\n",
    "    valset_hue_range=(0.4, 0.7),\n",
    "    num_samples=2000,\n",
    ")"
   ]
  },
  {
   "cell_type": "code",
   "execution_count": null,
   "id": "10af4723",
   "metadata": {},
   "outputs": [],
   "source": [
    "trainset.shape, valset.shape"
   ]
  },
  {
   "cell_type": "code",
   "execution_count": null,
   "id": "6088f34e-6693-41c2-ba01-cb14dda17e3c",
   "metadata": {},
   "outputs": [],
   "source": [
    "trainset_coords_x, trainset_coords_y = stringify_coords(trainset_coords)\n",
    "valset_coords_x, valset_coords_y = stringify_coords(valset_coords)\n",
    "trainset_images_bytes = trainset.numpy().tobytes()\n",
    "valset_images_bytes = valset.numpy().tobytes()\n",
    "with open(\"trainset_coords.json\", \"w\") as f:\n",
    "    f.write(f'{{\"x\": [{trainset_coords_x}], \"y\": [{trainset_coords_y}]}}')\n",
    "with open(\"valset_coords.json\", \"w\") as f:\n",
    "    f.write(f'{{\"x\": [{valset_coords_x}], \"y\": [{valset_coords_y}]}}')\n",
    "with open(\"trainset_images.bin\", \"wb\") as f:\n",
    "    f.write(trainset_images_bytes)\n",
    "with open(\"valset_images.bin\", \"wb\") as f:\n",
    "    f.write(valset_images_bytes)"
   ]
  },
  {
   "cell_type": "code",
   "execution_count": null,
   "id": "0b207a2b-658f-46f1-a20f-c258135c1f9d",
   "metadata": {},
   "outputs": [],
   "source": [
    "device = get_device()"
   ]
  },
  {
   "cell_type": "code",
   "execution_count": null,
   "id": "59ae028e-3013-4eec-a39b-028df8ca2bb1",
   "metadata": {},
   "outputs": [],
   "source": [
    "standard_grid = make_standard_grid(size_range, hue_range)\n",
    "imgs = get_images(sidelength, [tuple(pair) for pair in standard_grid.reshape(-1, 2).tolist()])\n",
    "grid_x = (torch.from_numpy(imgs).float() / 255.0).to(device)"
   ]
  },
  {
   "cell_type": "code",
   "execution_count": null,
   "id": "f5ae3436",
   "metadata": {},
   "outputs": [],
   "source": [
    "losses = []\n",
    "processed_grids = []\n",
    "vae = VAE(2).to(device)\n",
    "batch_size_train = 256\n",
    "batch_size_val = 64\n",
    "for i in trange(num_models):\n",
    "    filename = f\"vae_{i}.pth\"\n",
    "    train_losses, val_losses, model_processed_grids = train(\n",
    "        device,\n",
    "        trainset,\n",
    "        valset,\n",
    "        filename,\n",
    "        num_epochs,\n",
    "        batch_size_train,\n",
    "        batch_size_val,\n",
    "        grid_x,\n",
    "        True,\n",
    "    )\n",
    "    processed_grids.append(model_processed_grids)\n",
    "    losses.append((train_losses, val_losses))"
   ]
  },
  {
   "cell_type": "code",
   "execution_count": null,
   "id": "bdc4dbce-2ba3-45d6-9fa6-e01b14dc8ca2",
   "metadata": {},
   "outputs": [],
   "source": [
    "loss_data = np.array(losses).astype(np.float32)"
   ]
  },
  {
   "cell_type": "code",
   "execution_count": null,
   "id": "3b952f0a-8c73-4559-afe4-a30df38694e1",
   "metadata": {},
   "outputs": [],
   "source": [
    "loss_data.tofile(\"losses.bin\")"
   ]
  },
  {
   "cell_type": "code",
   "execution_count": null,
   "id": "645d9882-f06a-43ac-923e-06adc49647f3",
   "metadata": {},
   "outputs": [],
   "source": [
    "assert np.array_equal(\n",
    "    loss_data, np.fromfile(\"losses.bin\", dtype=np.float32).reshape(num_models, 2, num_epochs)\n",
    ")"
   ]
  },
  {
   "cell_type": "code",
   "execution_count": null,
   "id": "a188617d-0b72-43ca-a15e-253653d6e022",
   "metadata": {},
   "outputs": [],
   "source": [
    "all_processed_grids = np.array(processed_grids).reshape(num_models, num_epochs, 10, 10, 2)\n",
    "with open(\"grids.bin\", \"wb\") as f:\n",
    "    f.write(compress_floats(all_processed_grids))"
   ]
  },
  {
   "cell_type": "code",
   "execution_count": null,
   "id": "de69c5bc",
   "metadata": {},
   "outputs": [],
   "source": [
    "with open(\"grids.bin\", \"rb\") as f:\n",
    "    grids_reconstructed = expand_floats(f.read()).reshape(num_models, num_epochs, 10, 10, 2)"
   ]
  },
  {
   "cell_type": "code",
   "execution_count": null,
   "id": "60fd51a0-0f70-4ec2-944e-44e957b7c25a",
   "metadata": {},
   "outputs": [],
   "source": [
    "assert np.allclose(all_processed_grids, grids_reconstructed, rtol=1e-01, atol=1e-01)"
   ]
  },
  {
   "cell_type": "code",
   "execution_count": null,
   "id": "e61232d9-36b5-4f94-a7cd-03808df81589",
   "metadata": {},
   "outputs": [],
   "source": [
    "all_processed_grids.shape"
   ]
  },
  {
   "cell_type": "code",
   "execution_count": null,
   "id": "50a1b9b7-7e6d-45e4-bf17-29be3f46c4ce",
   "metadata": {
    "scrolled": true
   },
   "outputs": [],
   "source": [
    "with open(\"losses.bin\", \"rb\") as losses_f, open(\"grids.bin\", \"rb\") as grids_f:\n",
    "    losses_bytes = losses_f.read()\n",
    "    grids_bytes = grids_f.read()\n",
    "\n",
    "model_comparison(losses_bytes, grids_bytes)"
   ]
  },
  {
   "cell_type": "code",
   "execution_count": null,
   "id": "06d7b6db-af71-4ffd-97c7-b3ac0b4e5596",
   "metadata": {},
   "outputs": [],
   "source": [
    "trainset_coords[1]"
   ]
  },
  {
   "cell_type": "code",
   "execution_count": null,
   "id": "3318a017-5140-4eb7-b33c-73194c6997a5",
   "metadata": {},
   "outputs": [],
   "source": [
    "trainset.dtype"
   ]
  },
  {
   "cell_type": "code",
   "execution_count": null,
   "id": "e46acb30-bfb7-4218-83dc-787c7e3559f1",
   "metadata": {},
   "outputs": [],
   "source": [
    "for i in range(9):\n",
    "    vae = VAE(2)\n",
    "    vae.load_state_dict(torch.load(f\"vae_{i}.pth\"))\n",
    "    vae.eval()\n",
    "    onnx_export_to_files(vae.encoder, vae.decoder, f\"vae_{i}_encoder.onnx\", f\"vae_{i}_decoder.onnx\")"
   ]
  }
 ],
 "metadata": {
  "kernelspec": {
   "display_name": "Python 3 (ipykernel)",
   "language": "python",
   "name": "python3"
  },
  "language_info": {
   "codemirror_mode": {
    "name": "ipython",
    "version": 3
   },
   "file_extension": ".py",
   "mimetype": "text/x-python",
   "name": "python",
   "nbconvert_exporter": "python",
   "pygments_lexer": "ipython3",
   "version": "3.13.3"
  }
 },
 "nbformat": 4,
 "nbformat_minor": 5
}
