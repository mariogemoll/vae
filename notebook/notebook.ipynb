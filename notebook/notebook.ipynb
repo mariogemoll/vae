{
 "cells": [
  {
   "cell_type": "markdown",
   "id": "title",
   "metadata": {
    "id": "title"
   },
   "source": [
    "# Variational Autoencoders"
   ]
  },
  {
   "cell_type": "code",
   "execution_count": null,
   "id": "js_build",
   "metadata": {
    "id": "js_build"
   },
   "outputs": [],
   "source": [
    "import subprocess\n",
    "subprocess.run([\"npm\", \"i\", \"--no-progress\"], cwd=\"../widgets\", check=True)\n",
    "subprocess.run([\"npm\", \"i\", \"--no-progress\"], cwd=\"widget-wrappers\", check=True)\n",
    "subprocess.run([\"bash\", \"build_wrapped_widgets.sh\"], cwd=\"widget-wrappers\", check=True)"
   ]
  },
  {
   "cell_type": "code",
   "execution_count": null,
   "id": "imports",
   "metadata": {
    "id": "imports"
   },
   "outputs": [],
   "source": [
    "from vaewidgets import *  #\n",
    "from dataset import generate_dataset\n",
    "from util import map_tuple\n",
    "from constants import size_range, hue_range"
   ]
  },
  {
   "cell_type": "markdown",
   "id": "dataset_explanation",
   "metadata": {
    "id": "dataset_explanation"
   },
   "source": [
    "## Dataset explanation"
   ]
  },
  {
   "cell_type": "code",
   "execution_count": null,
   "id": "dataset_explanation_code",
   "metadata": {
    "id": "dataset_explanation_code"
   },
   "outputs": [],
   "source": [
    "dataset_explanation()"
   ]
  },
  {
   "cell_type": "markdown",
   "id": "train_validatation_set_split",
   "metadata": {
    "id": "train_validatation_set_split"
   },
   "source": [
    "## Train/validation set split"
   ]
  },
  {
   "cell_type": "code",
   "execution_count": null,
   "id": "valset_selection",
   "metadata": {
    "id": "valset_selection"
   },
   "outputs": [],
   "source": [
    "valset_selection = AreaSelectionWidget()\n",
    "valset_selection"
   ]
  },
  {
   "cell_type": "code",
   "execution_count": null,
   "id": "dataset_generation",
   "metadata": {
    "id": "dataset_generation"
   },
   "outputs": [],
   "source": [
    "trainset_coords, valset_coords, trainset, valset = generate_dataset(\n",
    "    size_range=size_range,\n",
    "    hue_range=hue_range,\n",
    "    valset_size_range=map_tuple(\n",
    "        size_range, (valset_selection.x, valset_selection.x + valset_selection.width)\n",
    "    ),\n",
    "    valset_hue_range=map_tuple(\n",
    "        hue_range, (valset_selection.y, valset_selection.y + valset_selection.height)\n",
    "    ),\n",
    "    num_samples=1000,\n",
    ")"
   ]
  },
  {
   "cell_type": "code",
   "execution_count": null,
   "id": "2cc2c8d0",
   "metadata": {},
   "outputs": [],
   "source": [
    "dataset_visualization(trainset_coords, valset_coords, trainset, valset)"
   ]
  }
 ],
 "metadata": {
  "kernelspec": {
   "display_name": "Python 3 (ipykernel)",
   "language": "python",
   "name": "python3"
  },
  "language_info": {
   "codemirror_mode": {
    "name": "ipython",
    "version": 3
   },
   "file_extension": ".py",
   "mimetype": "text/x-python",
   "name": "python",
   "nbconvert_exporter": "python",
   "pygments_lexer": "ipython3",
   "version": "3.13.3"
  }
 },
 "nbformat": 4,
 "nbformat_minor": 5
}
