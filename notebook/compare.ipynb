{
 "cells": [
  {
   "cell_type": "code",
   "execution_count": null,
   "id": "077459b3",
   "metadata": {},
   "outputs": [],
   "source": [
    "import json\n",
    "import os\n",
    "import subprocess\n",
    "\n",
    "import ipywidgets as widgets  # type: ignore\n",
    "import matplotlib.pyplot as plt\n",
    "import numpy as np\n",
    "import onnxruntime as ort  # type: ignore\n",
    "import torch\n",
    "\n",
    "from constants import hue_range, num_epochs, num_models, sidelength, size_range, z_range\n",
    "from grid import make_standard_grid\n",
    "from image import get_images\n",
    "from model import VAE\n",
    "from util import expand_floats, get_device, read_as_base64\n",
    "from vaewidgets import GridViewer, evolution, mapping, model_comparison\n",
    "\n",
    "plt.ioff();"
   ]
  },
  {
   "cell_type": "markdown",
   "id": "01714c2f-fb03-4bce-adf6-1a6993d6e706",
   "metadata": {},
   "source": [
    "This notebook demonstrates functional equivalence between some Python and JS code, in particular PyTorch and ONNX models."
   ]
  },
  {
   "cell_type": "markdown",
   "id": "2c70649e-884e-43f7-9eb0-cde3e183f826",
   "metadata": {},
   "source": [
    "Here's some code to draw a grid:"
   ]
  },
  {
   "cell_type": "code",
   "execution_count": null,
   "id": "12426a9e",
   "metadata": {},
   "outputs": [],
   "source": [
    "px = 1 / plt.rcParams[\"figure.dpi\"]  # Pixel in inches\n",
    "\n",
    "\n",
    "def connect_rows(grid: np.ndarray) -> None:\n",
    "    for i in range(10):\n",
    "        for j in range(9):\n",
    "            plt.plot(\n",
    "                [grid[i][j][0], grid[i][j + 1][0]],\n",
    "                [grid[i][j][1], grid[i][j + 1][1]],\n",
    "                \"k-\",\n",
    "                linewidth=0.2,\n",
    "            )\n",
    "\n",
    "\n",
    "def connect_columns(grid: np.ndarray) -> None:\n",
    "    for j in range(10):\n",
    "        for i in range(9):\n",
    "            plt.plot(\n",
    "                [grid[i][j][0], grid[i + 1][j][0]],\n",
    "                [grid[i][j][1], grid[i + 1][j][1]],\n",
    "                \"k-\",\n",
    "                linewidth=0.2,\n",
    "            )\n",
    "\n",
    "\n",
    "def show_grid(\n",
    "    out: widgets.Output, xlim: tuple[float, float], ylim: tuple[float, float], grid: np.ndarray\n",
    ") -> None:\n",
    "    with out:\n",
    "        plt.subplots(figsize=(250 * px, 250 * px))\n",
    "        plt.xlim(xlim)\n",
    "        plt.ylim(ylim)\n",
    "        connect_rows(grid)\n",
    "        connect_columns(grid)\n",
    "        plt.show()"
   ]
  },
  {
   "cell_type": "markdown",
   "id": "42268000-3a41-4c5c-9e62-8189e2ebacba",
   "metadata": {},
   "source": [
    "Let's create the standard grid in Python."
   ]
  },
  {
   "cell_type": "code",
   "execution_count": null,
   "id": "768d486e",
   "metadata": {},
   "outputs": [],
   "source": [
    "standard_grid = make_standard_grid(size_range, hue_range)"
   ]
  },
  {
   "cell_type": "markdown",
   "id": "c6317e18-fdac-4702-a9ec-594a659cb34c",
   "metadata": {},
   "source": [
    "And in JS via Node:"
   ]
  },
  {
   "cell_type": "code",
   "execution_count": null,
   "id": "5dc78524-96c1-4cfb-8389-9f89408f2374",
   "metadata": {},
   "outputs": [],
   "source": [
    "js_code = \"\"\"\n",
    "import { makeStandardGrid } from '../widgets/dist/grid.js';\n",
    "import { sizeRange, hueRange } from '../widgets/dist/constants.js';\n",
    "const grid = makeStandardGrid(sizeRange, hueRange);\n",
    "console.log(JSON.stringify(grid));\n",
    "\"\"\"\n",
    "\n",
    "result = subprocess.run(\n",
    "    [\"node\", \"-e\", js_code],\n",
    "    capture_output=True,\n",
    "    text=True,\n",
    "    env={\n",
    "        **os.environ,\n",
    "        \"FORCE_COLOR\": \"0\",\n",
    "        \"NO_COLOR\": \"1\",\n",
    "    },\n",
    "    check=True,\n",
    ")\n",
    "\n",
    "js_grid = np.array(json.loads(result.stdout)).round(3)"
   ]
  },
  {
   "cell_type": "markdown",
   "id": "15ae691d-d0cb-4aac-b015-2a1df735a89b",
   "metadata": {},
   "source": [
    "Check that they are equal:"
   ]
  },
  {
   "cell_type": "code",
   "execution_count": null,
   "id": "81b4c3a2-1df9-4da1-bd49-60403485b0a8",
   "metadata": {},
   "outputs": [],
   "source": [
    "assert np.all(standard_grid == js_grid)"
   ]
  },
  {
   "cell_type": "markdown",
   "id": "8762fc51-423a-4bc2-b5f6-f48ef43ef51c",
   "metadata": {},
   "source": [
    "Display in matplotlib as well as in our frontend code:"
   ]
  },
  {
   "cell_type": "code",
   "execution_count": null,
   "id": "fae01d7e",
   "metadata": {},
   "outputs": [],
   "source": [
    "out = widgets.Output()\n",
    "show_grid(out, size_range, hue_range, standard_grid)\n",
    "widgets.HBox([out, GridViewer(size_range, hue_range, standard_grid.tolist())])"
   ]
  },
  {
   "cell_type": "markdown",
   "id": "a53afeec-bbe7-4e6f-b73b-c5a5f70ac12e",
   "metadata": {},
   "source": [
    "Generate image data:"
   ]
  },
  {
   "cell_type": "code",
   "execution_count": null,
   "id": "70d6a34f",
   "metadata": {},
   "outputs": [],
   "source": [
    "imgs = get_images(sidelength, [tuple(pair) for pair in standard_grid.reshape(-1, 2).tolist()])\n",
    "x = torch.from_numpy(imgs).float() / 255.0"
   ]
  },
  {
   "cell_type": "markdown",
   "id": "bed9f824-f1fc-4e53-9ba9-7a15e21fbe91",
   "metadata": {},
   "source": [
    "Import the PyTorch model:"
   ]
  },
  {
   "cell_type": "code",
   "execution_count": null,
   "id": "255616b9",
   "metadata": {},
   "outputs": [],
   "source": [
    "device = get_device()\n",
    "vae = VAE(2).to(device)\n",
    "vae.load_state_dict(torch.load(\"vae_0.pth\"))\n",
    "vae.eval();"
   ]
  },
  {
   "cell_type": "markdown",
   "id": "b2c46f09-2c62-4c99-a767-42c7a0a05809",
   "metadata": {},
   "source": [
    "Encode the images in PyTorch:"
   ]
  },
  {
   "cell_type": "code",
   "execution_count": null,
   "id": "d3f080c0",
   "metadata": {},
   "outputs": [],
   "source": [
    "with torch.no_grad():\n",
    "    mu, logvar = vae.encoder(x.to(device))\n",
    "converted_grid = mu.view(10, 10, 2).cpu().numpy()"
   ]
  },
  {
   "cell_type": "markdown",
   "id": "0781a2b8-df28-4c94-8944-f2c9fac36309",
   "metadata": {},
   "source": [
    "Display the encodings of the images generated by the parameters from the grid:"
   ]
  },
  {
   "cell_type": "code",
   "execution_count": null,
   "id": "ab903998",
   "metadata": {},
   "outputs": [],
   "source": [
    "out = widgets.Output()\n",
    "show_grid(out, z_range, z_range, converted_grid)\n",
    "widgets.HBox([out, GridViewer(z_range, z_range, converted_grid.tolist())])"
   ]
  },
  {
   "cell_type": "markdown",
   "id": "c5a43542-b091-47d4-86b5-d23c43a5b8e4",
   "metadata": {},
   "source": [
    "Run the ONNX encoder in Python (the result should look the same as above):"
   ]
  },
  {
   "cell_type": "code",
   "execution_count": null,
   "id": "10d763c0-2a04-46ee-a265-629106a9d164",
   "metadata": {},
   "outputs": [],
   "source": [
    "ort_sess = ort.InferenceSession(\"vae_0_encoder.onnx\")\n",
    "mu_onnx, mu_logvar = ort_sess.run(None, {\"image\": x.numpy()})\n",
    "converted_grid_onnx = mu_onnx.reshape(10, 10, 2)\n",
    "out = widgets.Output()\n",
    "show_grid(out, z_range, z_range, converted_grid_onnx)\n",
    "out"
   ]
  },
  {
   "cell_type": "markdown",
   "id": "e4b74292-c6bb-4a9a-98d8-7a16dbd27cfe",
   "metadata": {},
   "source": [
    "Display the mapping widget, which runs the ONNX model in JS (should show the same shape of the grid in z space again):"
   ]
  },
  {
   "cell_type": "code",
   "execution_count": null,
   "id": "05f557eb",
   "metadata": {},
   "outputs": [],
   "source": [
    "mapping(read_as_base64(\"vae_0_encoder.onnx\"), read_as_base64(\"vae_0_decoder.onnx\"))"
   ]
  },
  {
   "cell_type": "markdown",
   "id": "557af62a",
   "metadata": {},
   "source": [
    "Load losses and grid evolution data from training:"
   ]
  },
  {
   "cell_type": "code",
   "execution_count": null,
   "id": "2b2cf9eb",
   "metadata": {},
   "outputs": [],
   "source": [
    "with open(\"losses.bin\", \"rb\") as f:\n",
    "    losses_bytes = f.read()\n",
    "\n",
    "with open(\"grids.bin\", \"rb\") as f:\n",
    "    grids_bytes = f.read()"
   ]
  },
  {
   "cell_type": "markdown",
   "id": "ecac509e",
   "metadata": {},
   "source": [
    "The grid shape should appear again here:"
   ]
  },
  {
   "cell_type": "code",
   "execution_count": null,
   "id": "6aea0515-21e0-404b-a19c-f8c32543ece3",
   "metadata": {},
   "outputs": [],
   "source": [
    "model_comparison(losses_bytes, grids_bytes)"
   ]
  },
  {
   "cell_type": "markdown",
   "id": "ba8ce960",
   "metadata": {},
   "source": [
    "And here:"
   ]
  },
  {
   "cell_type": "code",
   "execution_count": null,
   "id": "a0831c85",
   "metadata": {},
   "outputs": [],
   "source": [
    "grids = expand_floats(grids_bytes).reshape(num_models, num_epochs, 10, 10, 2)\n",
    "loss_data = np.fromfile(\"losses.bin\", dtype=np.float32).reshape(num_models, 2, num_epochs)\n",
    "\n",
    "train_losses = loss_data[0, 0]\n",
    "val_losses = loss_data[0, 1]\n",
    "grid_data = grids[0]\n",
    "evolution(train_losses, val_losses, grids)"
   ]
  }
 ],
 "metadata": {
  "kernelspec": {
   "display_name": "Python 3 (ipykernel)",
   "language": "python",
   "name": "python3"
  },
  "language_info": {
   "codemirror_mode": {
    "name": "ipython",
    "version": 3
   },
   "file_extension": ".py",
   "mimetype": "text/x-python",
   "name": "python",
   "nbconvert_exporter": "python",
   "pygments_lexer": "ipython3",
   "version": "3.13.3"
  }
 },
 "nbformat": 4,
 "nbformat_minor": 5
}
